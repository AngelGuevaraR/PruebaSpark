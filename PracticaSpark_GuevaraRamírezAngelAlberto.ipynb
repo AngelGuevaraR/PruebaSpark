{
  "nbformat": 4,
  "nbformat_minor": 0,
  "metadata": {
    "colab": {
      "provenance": [],
      "authorship_tag": "ABX9TyMfLIRJkBjnl0xvSGRQLaE3",
      "include_colab_link": true
    },
    "kernelspec": {
      "name": "python3",
      "display_name": "Python 3"
    },
    "language_info": {
      "name": "python"
    }
  },
  "cells": [
    {
      "cell_type": "markdown",
      "metadata": {
        "id": "view-in-github",
        "colab_type": "text"
      },
      "source": [
        "<a href=\"https://colab.research.google.com/github/AngelGuevaraR/PruebaSpark/blob/main/PracticaSpark_GuevaraRam%C3%ADrezAngelAlberto.ipynb\" target=\"_parent\"><img src=\"https://colab.research.google.com/assets/colab-badge.svg\" alt=\"Open In Colab\"/></a>"
      ]
    },
    {
      "cell_type": "markdown",
      "source": [
        "Instalacion de Spark"
      ],
      "metadata": {
        "id": "SU38YA_2HTSO"
      }
    },
    {
      "cell_type": "code",
      "source": [
        "!apt-get install openjdk-11-jdk-headless -qq > /dev/null"
      ],
      "metadata": {
        "id": "disw8I9XHWWq"
      },
      "execution_count": null,
      "outputs": []
    },
    {
      "cell_type": "code",
      "source": [
        "!wget -q https://dlcdn.apache.org/spark/spark-3.5.0/spark-3.5.0-bin-hadoop3.tgz"
      ],
      "metadata": {
        "id": "Wr0iux-vH9wv"
      },
      "execution_count": null,
      "outputs": []
    },
    {
      "cell_type": "markdown",
      "source": [
        "Se tiene que descargar y añadir spark a los archivos"
      ],
      "metadata": {
        "id": "e9wFUI_QMLZk"
      }
    },
    {
      "cell_type": "code",
      "source": [
        "!tar xf spark-3.5.0-bin-hadoop3.tgz"
      ],
      "metadata": {
        "id": "bekQa7YEIMjr"
      },
      "execution_count": null,
      "outputs": []
    },
    {
      "cell_type": "code",
      "source": [
        "ls"
      ],
      "metadata": {
        "colab": {
          "base_uri": "https://localhost:8080/"
        },
        "id": "jeiIwevPIVqL",
        "outputId": "78050660-23c9-48fb-bce6-aeccaded52d9"
      },
      "execution_count": null,
      "outputs": [
        {
          "output_type": "stream",
          "name": "stdout",
          "text": [
            "\u001b[0m\u001b[01;34msample_data\u001b[0m/  \u001b[01;34mspark-3.5.0-bin-hadoop3\u001b[0m/  spark-3.5.0-bin-hadoop3.tgz\n"
          ]
        }
      ]
    },
    {
      "cell_type": "code",
      "source": [
        "!pip install -q findspark"
      ],
      "metadata": {
        "id": "klXOpXvUL7v4"
      },
      "execution_count": null,
      "outputs": []
    },
    {
      "cell_type": "code",
      "source": [
        "!pip install pyspark"
      ],
      "metadata": {
        "colab": {
          "base_uri": "https://localhost:8080/"
        },
        "id": "vhln9u-pMBnE",
        "outputId": "942fccd8-63dc-4703-ccfb-5b0197127b65"
      },
      "execution_count": null,
      "outputs": [
        {
          "output_type": "stream",
          "name": "stdout",
          "text": [
            "Requirement already satisfied: pyspark in /usr/local/lib/python3.11/dist-packages (3.5.5)\n",
            "Requirement already satisfied: py4j==0.10.9.7 in /usr/local/lib/python3.11/dist-packages (from pyspark) (0.10.9.7)\n"
          ]
        }
      ]
    },
    {
      "cell_type": "code",
      "source": [
        "import findspark"
      ],
      "metadata": {
        "id": "qOFNj35_MGnB"
      },
      "execution_count": null,
      "outputs": []
    },
    {
      "cell_type": "code",
      "source": [
        "findspark.find()"
      ],
      "metadata": {
        "colab": {
          "base_uri": "https://localhost:8080/",
          "height": 35
        },
        "id": "rcger3SCMQbj",
        "outputId": "eda6288c-f715-4265-a723-c535e77274f8"
      },
      "execution_count": null,
      "outputs": [
        {
          "output_type": "execute_result",
          "data": {
            "text/plain": [
              "'/usr/local/lib/python3.11/dist-packages/pyspark'"
            ],
            "application/vnd.google.colaboratory.intrinsic+json": {
              "type": "string"
            }
          },
          "metadata": {},
          "execution_count": 10
        }
      ]
    },
    {
      "cell_type": "code",
      "source": [
        "import os"
      ],
      "metadata": {
        "id": "UKmf5UcHMU9P"
      },
      "execution_count": null,
      "outputs": []
    },
    {
      "cell_type": "code",
      "source": [
        "os.environ[\"JAVA_HOME\"] = \"/usr/lib/jvm/java-11-openjdk-amd64\""
      ],
      "metadata": {
        "id": "rFZsbsdRMXQo"
      },
      "execution_count": null,
      "outputs": []
    },
    {
      "cell_type": "code",
      "source": [
        "os.environ[\"SPARK_HOME\"] = \"/content/spark-3.5.0-bin-hadoop3\""
      ],
      "metadata": {
        "id": "EBY_EAU7MxVg"
      },
      "execution_count": null,
      "outputs": []
    },
    {
      "cell_type": "code",
      "source": [
        "from pyspark.sql import SparkSession"
      ],
      "metadata": {
        "id": "qBxsmhsDM2Rx"
      },
      "execution_count": null,
      "outputs": []
    },
    {
      "cell_type": "code",
      "source": [
        "from pyspark import SparkContext"
      ],
      "metadata": {
        "id": "hLeNQvQdM6FY"
      },
      "execution_count": null,
      "outputs": []
    },
    {
      "cell_type": "code",
      "source": [
        "spark = SparkSession.builder.appName(\"SesionPrueba\").master(\"local\").getOrCreate()"
      ],
      "metadata": {
        "id": "DveNurFrM982"
      },
      "execution_count": null,
      "outputs": []
    },
    {
      "cell_type": "code",
      "source": [
        "spark"
      ],
      "metadata": {
        "colab": {
          "base_uri": "https://localhost:8080/",
          "height": 219
        },
        "id": "TAp4krG2NN0W",
        "outputId": "9504b6d1-d1c0-486a-e36a-efa199f563e5"
      },
      "execution_count": null,
      "outputs": [
        {
          "output_type": "execute_result",
          "data": {
            "text/plain": [
              "<pyspark.sql.session.SparkSession at 0x7c6d44126290>"
            ],
            "text/html": [
              "\n",
              "            <div>\n",
              "                <p><b>SparkSession - in-memory</b></p>\n",
              "                \n",
              "        <div>\n",
              "            <p><b>SparkContext</b></p>\n",
              "\n",
              "            <p><a href=\"http://c80910857cf7:4040\">Spark UI</a></p>\n",
              "\n",
              "            <dl>\n",
              "              <dt>Version</dt>\n",
              "                <dd><code>v3.5.0</code></dd>\n",
              "              <dt>Master</dt>\n",
              "                <dd><code>local</code></dd>\n",
              "              <dt>AppName</dt>\n",
              "                <dd><code>SesionPrueba</code></dd>\n",
              "            </dl>\n",
              "        </div>\n",
              "        \n",
              "            </div>\n",
              "        "
            ]
          },
          "metadata": {},
          "execution_count": 17
        }
      ]
    },
    {
      "cell_type": "markdown",
      "source": [
        "Practica Guiada: Analisis de datos con Apache Spark"
      ],
      "metadata": {
        "id": "-eCJzIviNYNC"
      }
    },
    {
      "cell_type": "code",
      "source": [
        "# Ruta de acceso del archivo NivelesContaminacion_O3 a path_o\n",
        "path_o = \"/content/sample_data/NivelesContaminacion_o3.csv\""
      ],
      "metadata": {
        "id": "b6adVMMcNepg"
      },
      "execution_count": null,
      "outputs": []
    },
    {
      "cell_type": "code",
      "source": [
        "# Ruta de acceso del archivo NivelesContaminacion_pm25 a path_pm\n",
        "path_pm = \"/content/sample_data/NivelesContaminacion_pm25.csv\""
      ],
      "metadata": {
        "id": "jNWZdoE3OP8V"
      },
      "execution_count": null,
      "outputs": []
    },
    {
      "cell_type": "code",
      "source": [
        "# Lectura de contenido del archivo Nivelescontaminacion_o3 a path_o\n",
        "data_o_spark = spark.read.csv(path_o, header=True, inferSchema=True)"
      ],
      "metadata": {
        "id": "aUOQcJsUOdzX"
      },
      "execution_count": null,
      "outputs": []
    },
    {
      "cell_type": "code",
      "source": [
        "# Lectura de contenido del archivo Nivelescontaminacion_pm25 a path_pm\n",
        "data_pm_spark = spark.read.csv(path_pm, header=True, inferSchema=True)"
      ],
      "metadata": {
        "id": "u6bE3PH7Oygh"
      },
      "execution_count": null,
      "outputs": []
    },
    {
      "cell_type": "code",
      "source": [
        "# Muestra de contenido del dataset data_o_spark mostrando unicamente las primeras 20 filas con el metodo show\n",
        "data_o_spark.show()"
      ],
      "metadata": {
        "colab": {
          "base_uri": "https://localhost:8080/"
        },
        "id": "AVZaEopcPBL5",
        "outputId": "8242810c-60ad-4e22-ae5b-4bff5bf90800"
      },
      "execution_count": null,
      "outputs": [
        {
          "output_type": "stream",
          "name": "stdout",
          "text": [
            "+----------+-------+------------+------+-----+---------+---------+------------+\n",
            "|      Date|Country|        City|Specie|count|min (ppb)|max (ppb)|median (ppb)|\n",
            "+----------+-------+------------+------+-----+---------+---------+------------+\n",
            "|2017-01-01|     US| Los Angeles|    o3|   24|      2.0|     31.0|        10.0|\n",
            "|2017-01-01|     CN|    Shanghai|    o3|  188|      1.0|     39.0|        11.0|\n",
            "|2017-01-01|     US|   Manhattan|    o3|   24|      3.0|     28.0|        16.0|\n",
            "|2017-01-01|     US|Jacksonville|    o3|   46|      2.0|     18.0|        12.0|\n",
            "|2017-01-01|     CN|     Beijing|    o3|  235|      1.0|      8.0|         2.0|\n",
            "|2017-01-01|     US|     Houston|    o3|  119|      1.0|     30.0|        11.0|\n",
            "|2017-01-02|     US|   Manhattan|    o3|   23|      8.0|     19.0|        11.0|\n",
            "|2017-01-02|     CN|     Beijing|    o3|  385|      1.0|     30.0|         7.0|\n",
            "|2017-01-02|     US| Los Angeles|    o3|   24|      1.0|     34.0|        12.0|\n",
            "|2017-01-02|     CN|    Shanghai|    o3|  207|      1.0|     41.0|         9.0|\n",
            "|2017-01-02|     US|Jacksonville|    o3|   48|      4.0|     15.0|        11.0|\n",
            "|2017-01-02|     CN|       Wuhan|    o3|  271|      0.0|     56.0|        14.0|\n",
            "|2017-01-02|     US|     Houston|    o3|  113|      1.0|     35.0|        16.0|\n",
            "|2017-01-03|     US|     Houston|    o3|   89|      1.0|     36.0|        16.0|\n",
            "|2017-01-03|     CN|       Wuhan|    o3|  387|      0.0|     50.0|         8.0|\n",
            "|2017-01-03|     US| Los Angeles|    o3|   16|      1.0|     18.0|         1.0|\n",
            "|2017-01-03|     CN|    Shanghai|    o3|  201|      3.0|     46.0|        27.0|\n",
            "|2017-01-03|     US|   Manhattan|    o3|   23|      9.0|     23.0|        19.0|\n",
            "|2017-01-03|     US|Jacksonville|    o3|   45|      2.0|     11.0|         6.0|\n",
            "|2017-01-03|     CN|     Beijing|    o3|  329|      1.0|     24.0|         3.0|\n",
            "+----------+-------+------------+------+-----+---------+---------+------------+\n",
            "only showing top 20 rows\n",
            "\n"
          ]
        }
      ]
    },
    {
      "cell_type": "code",
      "source": [
        "# Muestra de contenido del dataset data_pm_spark mostrando unicamente las primeras 20 filas con el metodo show\n",
        "data_pm_spark.show()"
      ],
      "metadata": {
        "colab": {
          "base_uri": "https://localhost:8080/"
        },
        "id": "7_FUmew_PV0x",
        "outputId": "0f662bf5-6d41-4640-d705-b8eddf24c459"
      },
      "execution_count": null,
      "outputs": [
        {
          "output_type": "stream",
          "name": "stdout",
          "text": [
            "+----------+-------+------------+------+-----+-----------+-----------------+--------------+\n",
            "|      Date|Country|        City|Specie|count|min (ug/m3)|      max (ug/m3)|median (ug/m3)|\n",
            "+----------+-------+------------+------+-----+-----------+-----------------+--------------+\n",
            "|2017-01-01|     IN|   New Delhi|  pm25|   24|       54.9|            282.7|         177.7|\n",
            "|2017-01-01|     CN|    Shanghai|  pm25|  215|       12.0|             63.2|          34.4|\n",
            "|2017-01-01|     US|Jacksonville|  pm25|  115|        3.1|            113.6|           8.1|\n",
            "|2017-01-01|     US| Los Angeles|  pm25|   69|        3.3|            109.7|          15.9|\n",
            "|2017-01-01|     US|   Manhattan|  pm25|   96|        4.3|             23.0|          12.1|\n",
            "|2017-01-01|     CN|     Beijing|  pm25|  386|      214.0|663.8920904977376|         453.4|\n",
            "|2017-01-01|     US|     Houston|  pm25|   95|        4.8|             92.2|          14.9|\n",
            "|2017-01-02|     CN|     Beijing|  pm25|  456|        3.1|529.1259547511313|         241.3|\n",
            "|2017-01-02|     US|     Houston|  pm25|   93|        0.2|             14.9|           6.7|\n",
            "|2017-01-02|     CN|    Shanghai|  pm25|  216|       26.8|            125.2|          63.2|\n",
            "|2017-01-02|     IN|   New Delhi|  pm25|   24|       54.9|            309.0|         173.7|\n",
            "|2017-01-02|     US|Jacksonville|  pm25|  111|        1.2|             14.9|           5.0|\n",
            "|2017-01-02|     US|   Manhattan|  pm25|   96|        4.8|             23.0|          12.0|\n",
            "|2017-01-02|     US| Los Angeles|  pm25|   70|        0.4|             35.4|           7.2|\n",
            "|2017-01-02|     CN|       Wuhan|  pm25|  272|       35.9|            182.7|         115.5|\n",
            "|2017-01-03|     IN|   New Delhi|  pm25|   24|      113.6|            451.9|         175.7|\n",
            "|2017-01-03|     CN|    Shanghai|  pm25|  214|       55.5|            176.7|          88.4|\n",
            "|2017-01-03|     CN|       Wuhan|  pm25|  405|      109.7|            241.3|         146.5|\n",
            "|2017-01-03|     US|     Houston|  pm25|   84|        0.2|             12.1|           6.0|\n",
            "|2017-01-03|     CN|     Beijing|  pm25|  445|      136.8|642.6929230769232|         332.2|\n",
            "+----------+-------+------------+------+-----+-----------+-----------------+--------------+\n",
            "only showing top 20 rows\n",
            "\n"
          ]
        }
      ]
    },
    {
      "cell_type": "code",
      "source": [
        "# Muestra de columnas definidas unicamente del dataset data_o_spark con el metodo columns\n",
        "data_o_spark.columns"
      ],
      "metadata": {
        "colab": {
          "base_uri": "https://localhost:8080/"
        },
        "id": "iHcsH0AxPmtw",
        "outputId": "b0c2bc01-2ac7-49ba-e864-5eb75f2396b3"
      },
      "execution_count": null,
      "outputs": [
        {
          "output_type": "execute_result",
          "data": {
            "text/plain": [
              "['Date',\n",
              " 'Country',\n",
              " 'City',\n",
              " 'Specie',\n",
              " 'count',\n",
              " 'min (ppb)',\n",
              " 'max (ppb)',\n",
              " 'median (ppb)']"
            ]
          },
          "metadata": {},
          "execution_count": 24
        }
      ]
    },
    {
      "cell_type": "code",
      "source": [
        "# Muestra de columnas definidas unicamente del dataset data_pm_spark con el metodo columns\n",
        "data_pm_spark.columns"
      ],
      "metadata": {
        "colab": {
          "base_uri": "https://localhost:8080/"
        },
        "id": "IOvsBnqeP0Fx",
        "outputId": "d958a04c-f089-44db-d58a-b9c3941e90cd"
      },
      "execution_count": null,
      "outputs": [
        {
          "output_type": "execute_result",
          "data": {
            "text/plain": [
              "['Date',\n",
              " 'Country',\n",
              " 'City',\n",
              " 'Specie',\n",
              " 'count',\n",
              " 'min (ug/m3)',\n",
              " 'max (ug/m3)',\n",
              " 'median (ug/m3)']"
            ]
          },
          "metadata": {},
          "execution_count": 25
        }
      ]
    },
    {
      "cell_type": "code",
      "source": [
        "# Eliminacion de las columnas 'min (ppb)', 'max (ppb)', 'median (ppb)' del dataset data_o_spark y se asigna al mismo dataset\n",
        "data_o_spark = data_o_spark.drop('min (ppb)', 'max (ppb)', 'median (ppb)')"
      ],
      "metadata": {
        "id": "IuwD2NV6SLtJ"
      },
      "execution_count": null,
      "outputs": []
    },
    {
      "cell_type": "code",
      "source": [
        "data_o_spark.show()"
      ],
      "metadata": {
        "colab": {
          "base_uri": "https://localhost:8080/"
        },
        "id": "Wbcjz0ntSnJK",
        "outputId": "94ebe13b-7228-4ac7-e701-5d2ac1b3717c"
      },
      "execution_count": null,
      "outputs": [
        {
          "output_type": "stream",
          "name": "stdout",
          "text": [
            "+----------+-------+------------+------+-----+\n",
            "|      Date|Country|        City|Specie|count|\n",
            "+----------+-------+------------+------+-----+\n",
            "|2017-01-01|     US| Los Angeles|    o3|   24|\n",
            "|2017-01-01|     CN|    Shanghai|    o3|  188|\n",
            "|2017-01-01|     US|   Manhattan|    o3|   24|\n",
            "|2017-01-01|     US|Jacksonville|    o3|   46|\n",
            "|2017-01-01|     CN|     Beijing|    o3|  235|\n",
            "|2017-01-01|     US|     Houston|    o3|  119|\n",
            "|2017-01-02|     US|   Manhattan|    o3|   23|\n",
            "|2017-01-02|     CN|     Beijing|    o3|  385|\n",
            "|2017-01-02|     US| Los Angeles|    o3|   24|\n",
            "|2017-01-02|     CN|    Shanghai|    o3|  207|\n",
            "|2017-01-02|     US|Jacksonville|    o3|   48|\n",
            "|2017-01-02|     CN|       Wuhan|    o3|  271|\n",
            "|2017-01-02|     US|     Houston|    o3|  113|\n",
            "|2017-01-03|     US|     Houston|    o3|   89|\n",
            "|2017-01-03|     CN|       Wuhan|    o3|  387|\n",
            "|2017-01-03|     US| Los Angeles|    o3|   16|\n",
            "|2017-01-03|     CN|    Shanghai|    o3|  201|\n",
            "|2017-01-03|     US|   Manhattan|    o3|   23|\n",
            "|2017-01-03|     US|Jacksonville|    o3|   45|\n",
            "|2017-01-03|     CN|     Beijing|    o3|  329|\n",
            "+----------+-------+------------+------+-----+\n",
            "only showing top 20 rows\n",
            "\n"
          ]
        }
      ]
    },
    {
      "cell_type": "code",
      "source": [
        "# Se eliminan las columnas 'min (ug/m3)', 'max (ug/m3)', 'median (ug/m3)' del dataset data_pm_spark y se asigna la modificacion del mismo data\n",
        "data_pm_spark = data_pm_spark.drop('min (ug/m3)', 'max (ug/m3)', 'median (ug/m3)')"
      ],
      "metadata": {
        "id": "2D-Y5NtFSsGB"
      },
      "execution_count": null,
      "outputs": []
    },
    {
      "cell_type": "code",
      "source": [
        "data_pm_spark.show()"
      ],
      "metadata": {
        "colab": {
          "base_uri": "https://localhost:8080/"
        },
        "id": "wu5cg49sThlr",
        "outputId": "3d7d2ac6-418c-4a6e-cc1d-0501c3940de1"
      },
      "execution_count": null,
      "outputs": [
        {
          "output_type": "stream",
          "name": "stdout",
          "text": [
            "+----------+-------+------------+------+-----+\n",
            "|      Date|Country|        City|Specie|count|\n",
            "+----------+-------+------------+------+-----+\n",
            "|2017-01-01|     IN|   New Delhi|  pm25|   24|\n",
            "|2017-01-01|     CN|    Shanghai|  pm25|  215|\n",
            "|2017-01-01|     US|Jacksonville|  pm25|  115|\n",
            "|2017-01-01|     US| Los Angeles|  pm25|   69|\n",
            "|2017-01-01|     US|   Manhattan|  pm25|   96|\n",
            "|2017-01-01|     CN|     Beijing|  pm25|  386|\n",
            "|2017-01-01|     US|     Houston|  pm25|   95|\n",
            "|2017-01-02|     CN|     Beijing|  pm25|  456|\n",
            "|2017-01-02|     US|     Houston|  pm25|   93|\n",
            "|2017-01-02|     CN|    Shanghai|  pm25|  216|\n",
            "|2017-01-02|     IN|   New Delhi|  pm25|   24|\n",
            "|2017-01-02|     US|Jacksonville|  pm25|  111|\n",
            "|2017-01-02|     US|   Manhattan|  pm25|   96|\n",
            "|2017-01-02|     US| Los Angeles|  pm25|   70|\n",
            "|2017-01-02|     CN|       Wuhan|  pm25|  272|\n",
            "|2017-01-03|     IN|   New Delhi|  pm25|   24|\n",
            "|2017-01-03|     CN|    Shanghai|  pm25|  214|\n",
            "|2017-01-03|     CN|       Wuhan|  pm25|  405|\n",
            "|2017-01-03|     US|     Houston|  pm25|   84|\n",
            "|2017-01-03|     CN|     Beijing|  pm25|  445|\n",
            "+----------+-------+------------+------+-----+\n",
            "only showing top 20 rows\n",
            "\n"
          ]
        }
      ]
    },
    {
      "cell_type": "code",
      "source": [
        "# Renombracion de columna count por count-03 del dataset data_o_spark\n",
        "data_o_spark = data_o_spark.withColumnRenamed('count', 'count_o3')"
      ],
      "metadata": {
        "id": "ro7NvVIyTpSZ"
      },
      "execution_count": null,
      "outputs": []
    },
    {
      "cell_type": "code",
      "source": [
        "data_o_spark.show()"
      ],
      "metadata": {
        "colab": {
          "base_uri": "https://localhost:8080/"
        },
        "id": "kgyMNr9qTzRJ",
        "outputId": "8f565854-2510-4656-a5e6-4795b785b514"
      },
      "execution_count": null,
      "outputs": [
        {
          "output_type": "stream",
          "name": "stdout",
          "text": [
            "+----------+-------+------------+------+--------+\n",
            "|      Date|Country|        City|Specie|count_o3|\n",
            "+----------+-------+------------+------+--------+\n",
            "|2017-01-01|     US| Los Angeles|    o3|      24|\n",
            "|2017-01-01|     CN|    Shanghai|    o3|     188|\n",
            "|2017-01-01|     US|   Manhattan|    o3|      24|\n",
            "|2017-01-01|     US|Jacksonville|    o3|      46|\n",
            "|2017-01-01|     CN|     Beijing|    o3|     235|\n",
            "|2017-01-01|     US|     Houston|    o3|     119|\n",
            "|2017-01-02|     US|   Manhattan|    o3|      23|\n",
            "|2017-01-02|     CN|     Beijing|    o3|     385|\n",
            "|2017-01-02|     US| Los Angeles|    o3|      24|\n",
            "|2017-01-02|     CN|    Shanghai|    o3|     207|\n",
            "|2017-01-02|     US|Jacksonville|    o3|      48|\n",
            "|2017-01-02|     CN|       Wuhan|    o3|     271|\n",
            "|2017-01-02|     US|     Houston|    o3|     113|\n",
            "|2017-01-03|     US|     Houston|    o3|      89|\n",
            "|2017-01-03|     CN|       Wuhan|    o3|     387|\n",
            "|2017-01-03|     US| Los Angeles|    o3|      16|\n",
            "|2017-01-03|     CN|    Shanghai|    o3|     201|\n",
            "|2017-01-03|     US|   Manhattan|    o3|      23|\n",
            "|2017-01-03|     US|Jacksonville|    o3|      45|\n",
            "|2017-01-03|     CN|     Beijing|    o3|     329|\n",
            "+----------+-------+------------+------+--------+\n",
            "only showing top 20 rows\n",
            "\n"
          ]
        }
      ]
    },
    {
      "cell_type": "code",
      "source": [
        "# Renombracion de columna count por count_pm25 del dataset data_pm\n",
        "data_pm_spark = data_pm_spark.withColumnRenamed('count', 'count_pm25')"
      ],
      "metadata": {
        "id": "lQb3ZeRxT3HZ"
      },
      "execution_count": null,
      "outputs": []
    },
    {
      "cell_type": "code",
      "source": [
        "data_pm_spark.show()"
      ],
      "metadata": {
        "colab": {
          "base_uri": "https://localhost:8080/"
        },
        "id": "zr5xwoM_UZAK",
        "outputId": "231c00cf-932d-4b9e-ea87-8c3ce2a14c9f"
      },
      "execution_count": null,
      "outputs": [
        {
          "output_type": "stream",
          "name": "stdout",
          "text": [
            "+----------+-------+------------+------+----------+\n",
            "|      Date|Country|        City|Specie|count_pm25|\n",
            "+----------+-------+------------+------+----------+\n",
            "|2017-01-01|     IN|   New Delhi|  pm25|        24|\n",
            "|2017-01-01|     CN|    Shanghai|  pm25|       215|\n",
            "|2017-01-01|     US|Jacksonville|  pm25|       115|\n",
            "|2017-01-01|     US| Los Angeles|  pm25|        69|\n",
            "|2017-01-01|     US|   Manhattan|  pm25|        96|\n",
            "|2017-01-01|     CN|     Beijing|  pm25|       386|\n",
            "|2017-01-01|     US|     Houston|  pm25|        95|\n",
            "|2017-01-02|     CN|     Beijing|  pm25|       456|\n",
            "|2017-01-02|     US|     Houston|  pm25|        93|\n",
            "|2017-01-02|     CN|    Shanghai|  pm25|       216|\n",
            "|2017-01-02|     IN|   New Delhi|  pm25|        24|\n",
            "|2017-01-02|     US|Jacksonville|  pm25|       111|\n",
            "|2017-01-02|     US|   Manhattan|  pm25|        96|\n",
            "|2017-01-02|     US| Los Angeles|  pm25|        70|\n",
            "|2017-01-02|     CN|       Wuhan|  pm25|       272|\n",
            "|2017-01-03|     IN|   New Delhi|  pm25|        24|\n",
            "|2017-01-03|     CN|    Shanghai|  pm25|       214|\n",
            "|2017-01-03|     CN|       Wuhan|  pm25|       405|\n",
            "|2017-01-03|     US|     Houston|  pm25|        84|\n",
            "|2017-01-03|     CN|     Beijing|  pm25|       445|\n",
            "+----------+-------+------------+------+----------+\n",
            "only showing top 20 rows\n",
            "\n"
          ]
        }
      ]
    },
    {
      "cell_type": "code",
      "source": [
        "# Definicion del esquema de las columnas(Tipos de datos)\n",
        "data_pm_spark.printSchema()"
      ],
      "metadata": {
        "colab": {
          "base_uri": "https://localhost:8080/"
        },
        "id": "wyVxU2aZUbbZ",
        "outputId": "0b07acf8-41bd-4f26-9831-dc04e7358822"
      },
      "execution_count": null,
      "outputs": [
        {
          "output_type": "stream",
          "name": "stdout",
          "text": [
            "root\n",
            " |-- Date: date (nullable = true)\n",
            " |-- Country: string (nullable = true)\n",
            " |-- City: string (nullable = true)\n",
            " |-- Specie: string (nullable = true)\n",
            " |-- count_pm25: integer (nullable = true)\n",
            "\n"
          ]
        }
      ]
    },
    {
      "cell_type": "code",
      "source": [
        "# Se muestran los datos de las columnas Date y count_pm25 del dataset data_pm_spark utilizando la instruccion SQL \"select\", ai como tambien \"Show\"\n",
        "data_pm_spark.select(data_pm_spark['Date'], data_pm_spark['count_pm25']).show(truncate=False)"
      ],
      "metadata": {
        "colab": {
          "base_uri": "https://localhost:8080/"
        },
        "id": "OOyUK6WxUq1h",
        "outputId": "37f20423-c0e1-44ac-946f-6a02d7560ce7"
      },
      "execution_count": null,
      "outputs": [
        {
          "output_type": "stream",
          "name": "stdout",
          "text": [
            "+----------+----------+\n",
            "|Date      |count_pm25|\n",
            "+----------+----------+\n",
            "|2017-01-01|24        |\n",
            "|2017-01-01|215       |\n",
            "|2017-01-01|115       |\n",
            "|2017-01-01|69        |\n",
            "|2017-01-01|96        |\n",
            "|2017-01-01|386       |\n",
            "|2017-01-01|95        |\n",
            "|2017-01-02|456       |\n",
            "|2017-01-02|93        |\n",
            "|2017-01-02|216       |\n",
            "|2017-01-02|24        |\n",
            "|2017-01-02|111       |\n",
            "|2017-01-02|96        |\n",
            "|2017-01-02|70        |\n",
            "|2017-01-02|272       |\n",
            "|2017-01-03|24        |\n",
            "|2017-01-03|214       |\n",
            "|2017-01-03|405       |\n",
            "|2017-01-03|84        |\n",
            "|2017-01-03|445       |\n",
            "+----------+----------+\n",
            "only showing top 20 rows\n",
            "\n"
          ]
        }
      ]
    },
    {
      "cell_type": "markdown",
      "source": [
        "SQL en Spark"
      ],
      "metadata": {
        "id": "sLdMGPFhVebi"
      }
    },
    {
      "cell_type": "code",
      "source": [
        "# Para unir dos dataset se utiliza inner join, donde la combinacion de datos sera a traves del campo date (donde existan coincidencias)\n",
        "data_o_spark.join(data_pm_spark, data_o_spark['Date']==data_pm_spark['Date'], 'inner').show(truncate = False)"
      ],
      "metadata": {
        "colab": {
          "base_uri": "https://localhost:8080/"
        },
        "id": "1381llUAVhSh",
        "outputId": "b3465ef1-3318-4092-dcda-c5df2c6405f1"
      },
      "execution_count": null,
      "outputs": [
        {
          "output_type": "stream",
          "name": "stdout",
          "text": [
            "+----------+-------+------------+------+--------+----------+-------+------------+------+----------+\n",
            "|Date      |Country|City        |Specie|count_o3|Date      |Country|City        |Specie|count_pm25|\n",
            "+----------+-------+------------+------+--------+----------+-------+------------+------+----------+\n",
            "|2017-01-01|US     |Houston     |o3    |119     |2017-01-01|IN     |New Delhi   |pm25  |24        |\n",
            "|2017-01-01|CN     |Beijing     |o3    |235     |2017-01-01|IN     |New Delhi   |pm25  |24        |\n",
            "|2017-01-01|US     |Jacksonville|o3    |46      |2017-01-01|IN     |New Delhi   |pm25  |24        |\n",
            "|2017-01-01|US     |Manhattan   |o3    |24      |2017-01-01|IN     |New Delhi   |pm25  |24        |\n",
            "|2017-01-01|CN     |Shanghai    |o3    |188     |2017-01-01|IN     |New Delhi   |pm25  |24        |\n",
            "|2017-01-01|US     |Los Angeles |o3    |24      |2017-01-01|IN     |New Delhi   |pm25  |24        |\n",
            "|2017-01-01|US     |Houston     |o3    |119     |2017-01-01|CN     |Shanghai    |pm25  |215       |\n",
            "|2017-01-01|CN     |Beijing     |o3    |235     |2017-01-01|CN     |Shanghai    |pm25  |215       |\n",
            "|2017-01-01|US     |Jacksonville|o3    |46      |2017-01-01|CN     |Shanghai    |pm25  |215       |\n",
            "|2017-01-01|US     |Manhattan   |o3    |24      |2017-01-01|CN     |Shanghai    |pm25  |215       |\n",
            "|2017-01-01|CN     |Shanghai    |o3    |188     |2017-01-01|CN     |Shanghai    |pm25  |215       |\n",
            "|2017-01-01|US     |Los Angeles |o3    |24      |2017-01-01|CN     |Shanghai    |pm25  |215       |\n",
            "|2017-01-01|US     |Houston     |o3    |119     |2017-01-01|US     |Jacksonville|pm25  |115       |\n",
            "|2017-01-01|CN     |Beijing     |o3    |235     |2017-01-01|US     |Jacksonville|pm25  |115       |\n",
            "|2017-01-01|US     |Jacksonville|o3    |46      |2017-01-01|US     |Jacksonville|pm25  |115       |\n",
            "|2017-01-01|US     |Manhattan   |o3    |24      |2017-01-01|US     |Jacksonville|pm25  |115       |\n",
            "|2017-01-01|CN     |Shanghai    |o3    |188     |2017-01-01|US     |Jacksonville|pm25  |115       |\n",
            "|2017-01-01|US     |Los Angeles |o3    |24      |2017-01-01|US     |Jacksonville|pm25  |115       |\n",
            "|2017-01-01|US     |Houston     |o3    |119     |2017-01-01|US     |Los Angeles |pm25  |69        |\n",
            "|2017-01-01|CN     |Beijing     |o3    |235     |2017-01-01|US     |Los Angeles |pm25  |69        |\n",
            "+----------+-------+------------+------+--------+----------+-------+------------+------+----------+\n",
            "only showing top 20 rows\n",
            "\n"
          ]
        }
      ]
    },
    {
      "cell_type": "code",
      "source": [
        "# La consulta anterior se almacenra en un nuevo dataset\n",
        "# No debe incluirse show en este nuevo dataset al añadirlo\n",
        "data_o_pm_spark = data_o_spark.join(data_pm_spark, data_o_spark['Date']==data_pm_spark['Date'], 'inner')"
      ],
      "metadata": {
        "id": "IcQIdleMWNWy"
      },
      "execution_count": null,
      "outputs": []
    },
    {
      "cell_type": "code",
      "source": [
        "# Muestra del contenido del nuevo dataset\n",
        "data_o_pm_spark.show()"
      ],
      "metadata": {
        "colab": {
          "base_uri": "https://localhost:8080/"
        },
        "id": "qjAETMuuWmYL",
        "outputId": "ee962af1-43d1-4956-a8dd-d2046754d6cf"
      },
      "execution_count": null,
      "outputs": [
        {
          "output_type": "stream",
          "name": "stdout",
          "text": [
            "+----------+-------+------------+------+--------+----------+-------+------------+------+----------+\n",
            "|      Date|Country|        City|Specie|count_o3|      Date|Country|        City|Specie|count_pm25|\n",
            "+----------+-------+------------+------+--------+----------+-------+------------+------+----------+\n",
            "|2017-01-01|     US|     Houston|    o3|     119|2017-01-01|     IN|   New Delhi|  pm25|        24|\n",
            "|2017-01-01|     CN|     Beijing|    o3|     235|2017-01-01|     IN|   New Delhi|  pm25|        24|\n",
            "|2017-01-01|     US|Jacksonville|    o3|      46|2017-01-01|     IN|   New Delhi|  pm25|        24|\n",
            "|2017-01-01|     US|   Manhattan|    o3|      24|2017-01-01|     IN|   New Delhi|  pm25|        24|\n",
            "|2017-01-01|     CN|    Shanghai|    o3|     188|2017-01-01|     IN|   New Delhi|  pm25|        24|\n",
            "|2017-01-01|     US| Los Angeles|    o3|      24|2017-01-01|     IN|   New Delhi|  pm25|        24|\n",
            "|2017-01-01|     US|     Houston|    o3|     119|2017-01-01|     CN|    Shanghai|  pm25|       215|\n",
            "|2017-01-01|     CN|     Beijing|    o3|     235|2017-01-01|     CN|    Shanghai|  pm25|       215|\n",
            "|2017-01-01|     US|Jacksonville|    o3|      46|2017-01-01|     CN|    Shanghai|  pm25|       215|\n",
            "|2017-01-01|     US|   Manhattan|    o3|      24|2017-01-01|     CN|    Shanghai|  pm25|       215|\n",
            "|2017-01-01|     CN|    Shanghai|    o3|     188|2017-01-01|     CN|    Shanghai|  pm25|       215|\n",
            "|2017-01-01|     US| Los Angeles|    o3|      24|2017-01-01|     CN|    Shanghai|  pm25|       215|\n",
            "|2017-01-01|     US|     Houston|    o3|     119|2017-01-01|     US|Jacksonville|  pm25|       115|\n",
            "|2017-01-01|     CN|     Beijing|    o3|     235|2017-01-01|     US|Jacksonville|  pm25|       115|\n",
            "|2017-01-01|     US|Jacksonville|    o3|      46|2017-01-01|     US|Jacksonville|  pm25|       115|\n",
            "|2017-01-01|     US|   Manhattan|    o3|      24|2017-01-01|     US|Jacksonville|  pm25|       115|\n",
            "|2017-01-01|     CN|    Shanghai|    o3|     188|2017-01-01|     US|Jacksonville|  pm25|       115|\n",
            "|2017-01-01|     US| Los Angeles|    o3|      24|2017-01-01|     US|Jacksonville|  pm25|       115|\n",
            "|2017-01-01|     US|     Houston|    o3|     119|2017-01-01|     US| Los Angeles|  pm25|        69|\n",
            "|2017-01-01|     CN|     Beijing|    o3|     235|2017-01-01|     US| Los Angeles|  pm25|        69|\n",
            "+----------+-------+------------+------+--------+----------+-------+------------+------+----------+\n",
            "only showing top 20 rows\n",
            "\n"
          ]
        }
      ]
    },
    {
      "cell_type": "code",
      "source": [
        "# Creacion de tablas virtuales para trabajar SQL con estos datasets\n",
        "data_pm_spark.createOrReplaceTempView('Table_pm')"
      ],
      "metadata": {
        "id": "yKA-YVQYW5HJ"
      },
      "execution_count": null,
      "outputs": []
    },
    {
      "cell_type": "code",
      "source": [
        "data_o_spark.createOrReplaceTempView('Table_o')"
      ],
      "metadata": {
        "id": "AQHtY_W-XKHi"
      },
      "execution_count": null,
      "outputs": []
    },
    {
      "cell_type": "code",
      "source": [
        "# Se realiza la consulta pasando como campos para las coincidencias\n",
        "spark.sql(\n",
        "    \"select * from Table_pm \\\n",
        "    INNER JOIN Table_o on Table_pm.Date = Table_o.Date \\\n",
        "    and Table_pm.City == Table_o.City \\\n",
        "    and Table_pm.Country == Table_o.Country\"\n",
        ").show()"
      ],
      "metadata": {
        "colab": {
          "base_uri": "https://localhost:8080/"
        },
        "id": "zR5g7jLvXO4q",
        "outputId": "b2ffafe3-1940-4310-a3a7-a44aba373fcb"
      },
      "execution_count": null,
      "outputs": [
        {
          "output_type": "stream",
          "name": "stdout",
          "text": [
            "+----------+-------+------------+------+----------+----------+-------+------------+------+--------+\n",
            "|      Date|Country|        City|Specie|count_pm25|      Date|Country|        City|Specie|count_o3|\n",
            "+----------+-------+------------+------+----------+----------+-------+------------+------+--------+\n",
            "|2017-01-01|     CN|    Shanghai|  pm25|       215|2017-01-01|     CN|    Shanghai|    o3|     188|\n",
            "|2017-01-01|     US|Jacksonville|  pm25|       115|2017-01-01|     US|Jacksonville|    o3|      46|\n",
            "|2017-01-01|     US| Los Angeles|  pm25|        69|2017-01-01|     US| Los Angeles|    o3|      24|\n",
            "|2017-01-01|     US|   Manhattan|  pm25|        96|2017-01-01|     US|   Manhattan|    o3|      24|\n",
            "|2017-01-01|     CN|     Beijing|  pm25|       386|2017-01-01|     CN|     Beijing|    o3|     235|\n",
            "|2017-01-01|     US|     Houston|  pm25|        95|2017-01-01|     US|     Houston|    o3|     119|\n",
            "|2017-01-02|     CN|     Beijing|  pm25|       456|2017-01-02|     CN|     Beijing|    o3|     385|\n",
            "|2017-01-02|     US|     Houston|  pm25|        93|2017-01-02|     US|     Houston|    o3|     113|\n",
            "|2017-01-02|     CN|    Shanghai|  pm25|       216|2017-01-02|     CN|    Shanghai|    o3|     207|\n",
            "|2017-01-02|     US|Jacksonville|  pm25|       111|2017-01-02|     US|Jacksonville|    o3|      48|\n",
            "|2017-01-02|     US|   Manhattan|  pm25|        96|2017-01-02|     US|   Manhattan|    o3|      23|\n",
            "|2017-01-02|     US| Los Angeles|  pm25|        70|2017-01-02|     US| Los Angeles|    o3|      24|\n",
            "|2017-01-02|     CN|       Wuhan|  pm25|       272|2017-01-02|     CN|       Wuhan|    o3|     271|\n",
            "|2017-01-03|     CN|    Shanghai|  pm25|       214|2017-01-03|     CN|    Shanghai|    o3|     201|\n",
            "|2017-01-03|     CN|       Wuhan|  pm25|       405|2017-01-03|     CN|       Wuhan|    o3|     387|\n",
            "|2017-01-03|     US|     Houston|  pm25|        84|2017-01-03|     US|     Houston|    o3|      89|\n",
            "|2017-01-03|     CN|     Beijing|  pm25|       445|2017-01-03|     CN|     Beijing|    o3|     329|\n",
            "|2017-01-03|     US|   Manhattan|  pm25|        96|2017-01-03|     US|   Manhattan|    o3|      23|\n",
            "|2017-01-03|     US|Jacksonville|  pm25|       104|2017-01-03|     US|Jacksonville|    o3|      45|\n",
            "|2017-01-03|     US| Los Angeles|  pm25|        72|2017-01-03|     US| Los Angeles|    o3|      16|\n",
            "+----------+-------+------------+------+----------+----------+-------+------------+------+--------+\n",
            "only showing top 20 rows\n",
            "\n"
          ]
        }
      ]
    },
    {
      "cell_type": "code",
      "source": [
        "# Consulta donde solo se devuelven algunos campos\n",
        "spark.sql(\n",
        "    \"select Table_pm.Date, Table_pm.Country, Table_pm.City, Table_pm.count_pm25, Table_o.count_o3 \\\n",
        "    from Table_pm \\\n",
        "    INNER JOIN Table_o on Table_pm.Date = Table_o.Date \\\n",
        "    and Table_pm.City == Table_o.City \\\n",
        "    and Table_pm.Country == Table_o.Country\"\n",
        ").show()"
      ],
      "metadata": {
        "colab": {
          "base_uri": "https://localhost:8080/"
        },
        "id": "hgEJO48nYN1j",
        "outputId": "bc19e490-cd4c-4c28-ddac-cbfe161d50b2"
      },
      "execution_count": null,
      "outputs": [
        {
          "output_type": "stream",
          "name": "stdout",
          "text": [
            "+----------+-------+------------+----------+--------+\n",
            "|      Date|Country|        City|count_pm25|count_o3|\n",
            "+----------+-------+------------+----------+--------+\n",
            "|2017-01-01|     CN|    Shanghai|       215|     188|\n",
            "|2017-01-01|     US|Jacksonville|       115|      46|\n",
            "|2017-01-01|     US| Los Angeles|        69|      24|\n",
            "|2017-01-01|     US|   Manhattan|        96|      24|\n",
            "|2017-01-01|     CN|     Beijing|       386|     235|\n",
            "|2017-01-01|     US|     Houston|        95|     119|\n",
            "|2017-01-02|     CN|     Beijing|       456|     385|\n",
            "|2017-01-02|     US|     Houston|        93|     113|\n",
            "|2017-01-02|     CN|    Shanghai|       216|     207|\n",
            "|2017-01-02|     US|Jacksonville|       111|      48|\n",
            "|2017-01-02|     US|   Manhattan|        96|      23|\n",
            "|2017-01-02|     US| Los Angeles|        70|      24|\n",
            "|2017-01-02|     CN|       Wuhan|       272|     271|\n",
            "|2017-01-03|     CN|    Shanghai|       214|     201|\n",
            "|2017-01-03|     CN|       Wuhan|       405|     387|\n",
            "|2017-01-03|     US|     Houston|        84|      89|\n",
            "|2017-01-03|     CN|     Beijing|       445|     329|\n",
            "|2017-01-03|     US|   Manhattan|        96|      23|\n",
            "|2017-01-03|     US|Jacksonville|       104|      45|\n",
            "|2017-01-03|     US| Los Angeles|        72|      16|\n",
            "+----------+-------+------------+----------+--------+\n",
            "only showing top 20 rows\n",
            "\n"
          ]
        }
      ]
    },
    {
      "cell_type": "code",
      "source": [
        "# Se guardara esta consulta en un nuevo dataset\n",
        "# Igual no se añadira \"Show\"\n",
        "new_data_spark_date_o_pm = spark.sql(\n",
        "    \"select Table_pm.Date, Table_pm.Country, Table_pm.City, Table_pm.count_pm25, Table_o.count_o3 \\\n",
        "    from Table_pm \\\n",
        "    INNER JOIN Table_o on Table_pm.Date == Table_o.Date \\\n",
        "    and Table_pm.City == Table_o.City and Table_pm.Country == Table_o.Country\")"
      ],
      "metadata": {
        "id": "UGXSC-FDYuqz"
      },
      "execution_count": null,
      "outputs": []
    },
    {
      "cell_type": "code",
      "source": [
        "new_data_spark_date_o_pm.show()"
      ],
      "metadata": {
        "colab": {
          "base_uri": "https://localhost:8080/"
        },
        "id": "AwMPR83MZW9q",
        "outputId": "66aee2a2-a8e4-4d61-9918-a1b5bbe11b1e"
      },
      "execution_count": null,
      "outputs": [
        {
          "output_type": "stream",
          "name": "stdout",
          "text": [
            "+----------+-------+------------+----------+--------+\n",
            "|      Date|Country|        City|count_pm25|count_o3|\n",
            "+----------+-------+------------+----------+--------+\n",
            "|2017-01-01|     CN|    Shanghai|       215|     188|\n",
            "|2017-01-01|     US|Jacksonville|       115|      46|\n",
            "|2017-01-01|     US| Los Angeles|        69|      24|\n",
            "|2017-01-01|     US|   Manhattan|        96|      24|\n",
            "|2017-01-01|     CN|     Beijing|       386|     235|\n",
            "|2017-01-01|     US|     Houston|        95|     119|\n",
            "|2017-01-02|     CN|     Beijing|       456|     385|\n",
            "|2017-01-02|     US|     Houston|        93|     113|\n",
            "|2017-01-02|     CN|    Shanghai|       216|     207|\n",
            "|2017-01-02|     US|Jacksonville|       111|      48|\n",
            "|2017-01-02|     US|   Manhattan|        96|      23|\n",
            "|2017-01-02|     US| Los Angeles|        70|      24|\n",
            "|2017-01-02|     CN|       Wuhan|       272|     271|\n",
            "|2017-01-03|     CN|    Shanghai|       214|     201|\n",
            "|2017-01-03|     CN|       Wuhan|       405|     387|\n",
            "|2017-01-03|     US|     Houston|        84|      89|\n",
            "|2017-01-03|     CN|     Beijing|       445|     329|\n",
            "|2017-01-03|     US|   Manhattan|        96|      23|\n",
            "|2017-01-03|     US|Jacksonville|       104|      45|\n",
            "|2017-01-03|     US| Los Angeles|        72|      16|\n",
            "+----------+-------+------------+----------+--------+\n",
            "only showing top 20 rows\n",
            "\n"
          ]
        }
      ]
    },
    {
      "cell_type": "code",
      "source": [
        "# Contador del numero de regisros totales del nuevo dataset\n",
        "new_data_spark_date_o_pm.count()"
      ],
      "metadata": {
        "colab": {
          "base_uri": "https://localhost:8080/"
        },
        "id": "xm0I2ThzZbuq",
        "outputId": "1844abeb-ace9-430b-bfcb-7d9266aee5aa"
      },
      "execution_count": null,
      "outputs": [
        {
          "output_type": "execute_result",
          "data": {
            "text/plain": [
              "5100"
            ]
          },
          "metadata": {},
          "execution_count": 45
        }
      ]
    },
    {
      "cell_type": "markdown",
      "source": [
        "Consultas Practica"
      ],
      "metadata": {
        "id": "fWMgOrl_ZqDC"
      }
    },
    {
      "cell_type": "markdown",
      "source": [
        "1. Devolver los niveles de contaminacion pm25 y count_o3 de la ciudad de los Angeles y Manhattan"
      ],
      "metadata": {
        "id": "mNPKQ38bZvMa"
      }
    },
    {
      "cell_type": "code",
      "source": [
        "data_cont_angeles_manhattan = spark.sql(\n",
        "    \"select Table_pm.Date, Table_pm.Country, Table_pm.City, Table_pm.count_pm25, Table_o.count_o3 \\\n",
        "    from Table_pm \\\n",
        "    INNER JOIN Table_o on Table_pm.Date == Table_o.Date \\\n",
        "    and Table_pm.City == Table_o.City and Table_pm.Country == Table_o.Country \\\n",
        "    where Table_pm.City == 'Los Angeles' or Table_pm.City == 'Manhattan'\"\n",
        ")"
      ],
      "metadata": {
        "id": "sjjBdcA_Z4k5"
      },
      "execution_count": null,
      "outputs": []
    },
    {
      "cell_type": "code",
      "source": [
        "data_cont_angeles_manhattan.show()"
      ],
      "metadata": {
        "colab": {
          "base_uri": "https://localhost:8080/"
        },
        "id": "Ap3z41nwaSaJ",
        "outputId": "1c483497-d89e-49b2-8173-c5cf699a954b"
      },
      "execution_count": null,
      "outputs": [
        {
          "output_type": "stream",
          "name": "stdout",
          "text": [
            "+----------+-------+-----------+----------+--------+\n",
            "|      Date|Country|       City|count_pm25|count_o3|\n",
            "+----------+-------+-----------+----------+--------+\n",
            "|2017-01-01|     US|Los Angeles|        69|      24|\n",
            "|2017-01-01|     US|  Manhattan|        96|      24|\n",
            "|2017-01-02|     US|  Manhattan|        96|      23|\n",
            "|2017-01-02|     US|Los Angeles|        70|      24|\n",
            "|2017-01-03|     US|  Manhattan|        96|      23|\n",
            "|2017-01-03|     US|Los Angeles|        72|      16|\n",
            "|2017-01-04|     US|Los Angeles|        69|      14|\n",
            "|2017-01-04|     US|  Manhattan|        91|      24|\n",
            "|2017-01-05|     US|  Manhattan|        87|      24|\n",
            "|2017-01-05|     US|Los Angeles|        55|      24|\n",
            "|2017-01-06|     US|Los Angeles|        56|      19|\n",
            "|2017-01-06|     US|  Manhattan|        94|      24|\n",
            "|2017-01-07|     US|Los Angeles|        71|      23|\n",
            "|2017-01-07|     US|  Manhattan|        85|      24|\n",
            "|2017-01-08|     US|Los Angeles|        71|      22|\n",
            "|2017-01-08|     US|  Manhattan|        88|      24|\n",
            "|2017-01-09|     US|  Manhattan|        74|      24|\n",
            "|2017-01-09|     US|Los Angeles|        69|      24|\n",
            "|2017-01-10|     US|Los Angeles|        70|      19|\n",
            "|2017-01-10|     US|  Manhattan|        72|      24|\n",
            "+----------+-------+-----------+----------+--------+\n",
            "only showing top 20 rows\n",
            "\n"
          ]
        }
      ]
    },
    {
      "cell_type": "markdown",
      "source": [
        "2. Devolver la suma total de contaminacion reportadas tanto para pm25 y count_o3 para todas las ciudades"
      ],
      "metadata": {
        "id": "-nP-Uh4Faf6C"
      }
    },
    {
      "cell_type": "code",
      "source": [
        "data_sumtot_cont = spark.sql(\n",
        "    \"select sum(Table_pm.count_pm25) as sum_pm25, sum(Table_o.count_o3) as sum_o3 \\\n",
        "    from Table_pm \\\n",
        "    INNER JOIN Table_o on Table_pm.Date == Table_o.Date \\\n",
        "    and Table_pm.City == Table_o.City and Table_pm.Country == Table_o.Country\"\n",
        ")"
      ],
      "metadata": {
        "id": "9eLaAVWIaspJ"
      },
      "execution_count": null,
      "outputs": []
    },
    {
      "cell_type": "code",
      "source": [
        "data_sumtot_cont.show()"
      ],
      "metadata": {
        "colab": {
          "base_uri": "https://localhost:8080/"
        },
        "id": "_sZtk2maa10A",
        "outputId": "8c930446-fdfd-4677-baf5-62325241f0ac"
      },
      "execution_count": null,
      "outputs": [
        {
          "output_type": "stream",
          "name": "stdout",
          "text": [
            "+--------+-------+\n",
            "|sum_pm25| sum_o3|\n",
            "+--------+-------+\n",
            "| 1243917|1113697|\n",
            "+--------+-------+\n",
            "\n"
          ]
        }
      ]
    },
    {
      "cell_type": "code",
      "source": [
        "# Suma total de ciudades por separado\n",
        "data_sumtot_ciudadcont = spark.sql(\n",
        "    \"select Table_pm.City, sum(Table_pm.count_pm25) as sum_pm25, sum(Table_o.count_o3) as sum_o3 \\\n",
        "    from Table_pm \\\n",
        "    INNER JOIN Table_o on Table_pm.Date == Table_o.Date \\\n",
        "    and Table_pm.City == Table_o.City and Table_pm.Country == Table_o.Country \\\n",
        "    group by Table_pm.City\"\n",
        ")"
      ],
      "metadata": {
        "id": "vY18A6bXXPP0"
      },
      "execution_count": null,
      "outputs": []
    },
    {
      "cell_type": "code",
      "source": [
        "data_sumtot_ciudadcont.show()"
      ],
      "metadata": {
        "id": "Iclc6CpmbEwk",
        "outputId": "1d7dd8d8-cc45-4702-f4ab-9645ec0f30ee",
        "colab": {
          "base_uri": "https://localhost:8080/"
        }
      },
      "execution_count": null,
      "outputs": [
        {
          "output_type": "stream",
          "name": "stdout",
          "text": [
            "+------------+--------+------+\n",
            "|        City|sum_pm25|sum_o3|\n",
            "+------------+--------+------+\n",
            "|       Wuhan|  275352|268473|\n",
            "|     Beijing|  324798|309784|\n",
            "| Los Angeles|   50491| 16823|\n",
            "|     Houston|   75783| 82761|\n",
            "|Jacksonville|   98282| 68813|\n",
            "|   Manhattan|   58197| 18176|\n",
            "|    Shanghai|  361014|348867|\n",
            "+------------+--------+------+\n",
            "\n"
          ]
        }
      ]
    },
    {
      "cell_type": "markdown",
      "source": [
        "3. Devolver los contaminantes reportados el mes de enero del 2020"
      ],
      "metadata": {
        "id": "-Zn2pT2NbBEA"
      }
    },
    {
      "cell_type": "code",
      "source": [
        "data_cont_reportados = spark.sql(\n",
        "    \"select Table_pm.Date, Table_pm.Country, Table_pm.City, Table_pm.count_pm25, Table_o.count_o3 \\\n",
        "    from Table_pm \\\n",
        "    INNER JOIN Table_o on Table_pm.Date == Table_o.Date \\\n",
        "    and Table_pm.City == Table_o.City and Table_pm.Country == Table_o.Country \\\n",
        "    where Table_pm.Date like '2020-01%'\"\n",
        ")"
      ],
      "metadata": {
        "id": "Z4rmspIRbFaE"
      },
      "execution_count": null,
      "outputs": []
    },
    {
      "cell_type": "code",
      "source": [
        "data_cont_reportados.show()"
      ],
      "metadata": {
        "colab": {
          "base_uri": "https://localhost:8080/"
        },
        "id": "eBDzkhEDbQQS",
        "outputId": "d007780d-48de-436b-c803-c9d3d096e6a3"
      },
      "execution_count": null,
      "outputs": [
        {
          "output_type": "stream",
          "name": "stdout",
          "text": [
            "+----------+-------+------------+----------+--------+\n",
            "|      Date|Country|        City|count_pm25|count_o3|\n",
            "+----------+-------+------------+----------+--------+\n",
            "|2020-01-01|     US|   Manhattan|        65|      23|\n",
            "|2020-01-01|     US|   Manhattan|        65|      23|\n",
            "|2020-01-01|     CN|       Wuhan|       363|     314|\n",
            "|2020-01-01|     CN|       Wuhan|       363|     314|\n",
            "|2020-01-01|     CN|    Shanghai|       855|     854|\n",
            "|2020-01-01|     CN|    Shanghai|       855|     854|\n",
            "|2020-01-01|     CN|     Beijing|       441|     322|\n",
            "|2020-01-01|     CN|     Beijing|       441|     322|\n",
            "|2020-01-01|     US|Jacksonville|       141|      48|\n",
            "|2020-01-01|     US|Jacksonville|       141|      48|\n",
            "|2020-01-01|     US| Los Angeles|        48|      24|\n",
            "|2020-01-01|     US| Los Angeles|        48|      24|\n",
            "|2020-01-01|     US|     Houston|        72|     119|\n",
            "|2020-01-01|     US|     Houston|        72|     119|\n",
            "|2020-01-02|     CN|       Wuhan|       384|     328|\n",
            "|2020-01-02|     CN|       Wuhan|       384|     328|\n",
            "|2020-01-02|     CN|    Shanghai|       866|     806|\n",
            "|2020-01-02|     CN|    Shanghai|       866|     806|\n",
            "|2020-01-02|     US|Jacksonville|       165|     141|\n",
            "|2020-01-02|     US|Jacksonville|       165|     141|\n",
            "+----------+-------+------------+----------+--------+\n",
            "only showing top 20 rows\n",
            "\n"
          ]
        }
      ]
    }
  ]
}